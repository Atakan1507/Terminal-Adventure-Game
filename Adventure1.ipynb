{
 "cells": [
  {
   "cell_type": "markdown",
   "id": "2a79f16c",
   "metadata": {},
   "source": [
    "Here you will go in a adventure, based on your selections you will found yourself in a lot of events\n",
    "Have fun :)"
   ]
  },
  {
   "cell_type": "code",
   "execution_count": null,
   "id": "79d0f08d",
   "metadata": {},
   "outputs": [
    {
     "name": "stdout",
     "output_type": "stream",
     "text": [
      "You are just a mercenery in a town full of happiness and wealth.\n",
      "Your main objective is to slay as many as monsters as you can.\n",
      "You approach the town hall hoping to find some bounty, You approach the officer there to ask.\n",
      "Hey! who goes there!\n",
      "Ahh! Hello there Alice, We have a \n"
     ]
    }
   ],
   "source": [
    "print(\"You are just a mercenery in a town full of happiness and wealth.\") \n",
    "print(\"Your main objective is to slay as many as monsters as you can.\") \n",
    "print(\"You approach the town hall hoping to find some bounty, You approach the officer there to ask.\")\n",
    "print(\"Hey! who goes there!\")\n",
    "user = input(\"What will be your name?\")\n",
    "print(f\"Ahh! Hello there {user}, We have a bounty for you!\")\n",
    "print(\"Hands you a bounty that has a orc lord's face painted\")"
   ]
  },
  {
   "cell_type": "code",
   "execution_count": 13,
   "id": "101c1bce",
   "metadata": {},
   "outputs": [
    {
     "name": "stdout",
     "output_type": "stream",
     "text": [
      "Here is your Stats:{'Health': 25, 'Armour': 20, 'Dodge': 5}\n"
     ]
    }
   ],
   "source": [
    "\n",
    "while True:\n",
    "    your_class = input(\"Please select one of the classes you want to play: Barbarian, Paladin or Monk\").strip().lower()\n",
    "    if your_class == \"barbarian\" :\n",
    "        Stats = dict(Health = 40,\n",
    "                    Armour = 5,\n",
    "                    Dodge = 5)\n",
    "        print(f\"Here is your Stats:{Stats}\")\n",
    "        break\n",
    "    elif your_class == \"paladin\":\n",
    "        Stats = dict(Health = 25,\n",
    "                    Armour = 20,\n",
    "                    Dodge = 5)\n",
    "        print(f\"Here is your Stats:{Stats}\")\n",
    "        break\n",
    "    elif your_class == \"monk\":\n",
    "        Stats = dict(Health = 20,\n",
    "                    Armour = 5,\n",
    "                    Dodge = 25)\n",
    "        print(f\"Here is your Stats:{Stats}\")\n",
    "        break\n",
    "    else: \n",
    "        print(\"Wrong input, Try again\")"
   ]
  },
  {
   "cell_type": "code",
   "execution_count": null,
   "id": "c5ba5191",
   "metadata": {},
   "outputs": [],
   "source": [
    "Goblin = "
   ]
  },
  {
   "cell_type": "code",
   "execution_count": null,
   "id": "7f517340",
   "metadata": {},
   "outputs": [
    {
     "name": "stdout",
     "output_type": "stream",
     "text": [
      "When you start walking trough the forest you come across 1 Orcs\n"
     ]
    }
   ],
   "source": [
    "import random\n",
    "enemy = random.choice([\"Goblin\", \"Ghost\", \"Skeleton\"])\n",
    "number = random.randint(1,3)\n",
    "print(f\"When you start walking trough the forest you come across {number} {enemy}s\")\n",
    "choice_1 = input(\"What will you do? 1)Walk on 2)Attach 3)Sneak\")\n"
   ]
  }
 ],
 "metadata": {
  "kernelspec": {
   "display_name": "Python 3",
   "language": "python",
   "name": "python3"
  },
  "language_info": {
   "codemirror_mode": {
    "name": "ipython",
    "version": 3
   },
   "file_extension": ".py",
   "mimetype": "text/x-python",
   "name": "python",
   "nbconvert_exporter": "python",
   "pygments_lexer": "ipython3",
   "version": "3.13.3"
  }
 },
 "nbformat": 4,
 "nbformat_minor": 5
}
