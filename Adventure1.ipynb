{
 "cells": [
  {
   "cell_type": "markdown",
   "id": "2a79f16c",
   "metadata": {},
   "source": [
    "Here you will go in a adventure, based on your selections you will found yourself in a lot of events\n",
    "Have fun :)"
   ]
  },
  {
   "cell_type": "code",
   "execution_count": 3,
   "id": "79d0f08d",
   "metadata": {},
   "outputs": [
    {
     "name": "stdout",
     "output_type": "stream",
     "text": [
      "Your main objective is to slay as many as monsters as you can.\n",
      "You approach the town hall hoping to find some bounty, You approach the officer there to ask.\n",
      "Hey! who goes there!\n",
      "Ahh! Hello there Alice, We have a bounty for you!\n",
      "Hands you a bounty that has a orc lord's face painted\n"
     ]
    }
   ],
   "source": [
    "import tkinter as tk\n",
    "from PIL import Image, ImageTk\n",
    "\n",
    "window = tk.Tk()\n",
    "window.title(\"Adventure Game\")\n",
    "\n",
    "img_castle = Image.open(\"castle.png\")\n",
    "img_castle = img_castle.resize((200, 200))\n",
    "photo_castle = ImageTk.PhotoImage(img_castle)\n",
    "\n",
    "label = tk.Label(window, image=photo_castle)\n",
    "label.image = photo_castle  # 👈 This prevents the TclError!\n",
    "label.pack()\n",
    "\n",
    "tk.Label(window, text=\"You are just a mercenery in a town full of happiness and wealth.\").pack()\n",
    "\n",
    "window.mainloop()\n",
    "\n",
    "# Rest of your game logic (prints and input)\n",
    "print(\"Your main objective is to slay as many as monsters as you can.\") \n",
    "print(\"You approach the town hall hoping to find some bounty, You approach the officer there to ask.\")\n",
    "print(\"Hey! who goes there!\")\n",
    "user = input(\"What will be your name? \")\n",
    "print(f\"Ahh! Hello there {user}, We have a bounty for you!\")\n",
    "print(\"Hands you a bounty that has a orc lord's face painted\")\n"
   ]
  },
  {
   "cell_type": "code",
   "execution_count": 8,
   "id": "101c1bce",
   "metadata": {},
   "outputs": [
    {
     "name": "stdout",
     "output_type": "stream",
     "text": [
      "Here is your Stats:{'Health': 40, 'Armour': 5, 'Dodge': 5, 'Attack': 10}\n"
     ]
    }
   ],
   "source": [
    "\n",
    "while True:\n",
    "    your_class = input(\"Please select one of the classes you want to play: Barbarian, Paladin or Monk\").strip().lower()\n",
    "    if your_class == \"barbarian\" :\n",
    "        Stats = dict(Health = 40,\n",
    "                    Armour = 5,\n",
    "                    Dodge = 5,\n",
    "                    Attack = 10)\n",
    "        print(f\"Here is your Stats:{Stats}\")\n",
    "        break\n",
    "    elif your_class == \"paladin\":\n",
    "        Stats = dict(Health = 25,\n",
    "                    Armour = 20,\n",
    "                    Dodge = 5,\n",
    "                    Attack = 10)\n",
    "        print(f\"Here is your Stats:{Stats}\")\n",
    "        break\n",
    "    elif your_class == \"monk\":\n",
    "        Stats = dict(Health = 20,\n",
    "                    Armour = 5,\n",
    "                    Dodge = 25,\n",
    "                    Attack = 10)\n",
    "        print(f\"Here is your Stats:{Stats}\")\n",
    "        break\n",
    "    else: \n",
    "        print(\"Wrong input, Try again\")"
   ]
  },
  {
   "cell_type": "code",
   "execution_count": 9,
   "id": "c5ba5191",
   "metadata": {},
   "outputs": [],
   "source": [
    "Goblin = dict(Health=10,\n",
    "              Armour =5,\n",
    "              Dodge = 2,\n",
    "              Attack = 5) \n",
    "\n",
    "Skeleton = dict(Health = 5,\n",
    "                Armour =0,\n",
    "                Dodge = 3,\n",
    "                Attack = 10)\n",
    "\n",
    "Ghost = dict(Health = 2,\n",
    "             Armour = 0,\n",
    "             Dodge = 10,\n",
    "             Attack = 5 )"
   ]
  },
  {
   "cell_type": "code",
   "execution_count": 2,
   "id": "7f517340",
   "metadata": {},
   "outputs": [
    {
     "name": "stdout",
     "output_type": "stream",
     "text": [
      "When you start walking trough the forest you come across 1 Skeletons\n",
      "You manage to walk on without getting caught\n"
     ]
    }
   ],
   "source": [
    "import random\n",
    "import tkinter as tk\n",
    "from PIL import Image, ImageTk\n",
    "window = tk.Tk()\n",
    "window.title(\"Adventure Game\")\n",
    "# Load image for goblin\n",
    "img_goblin = Image.open(\"goblin.png\")\n",
    "img_goblin = img_goblin.resize((200, 200))\n",
    "photo_goblin = ImageTk.PhotoImage(img_goblin)\n",
    "\n",
    "# Load image for skeleton\n",
    "img_ske = Image.open(\"skeleton.png\")\n",
    "img_ske = img_ske.resize((200, 200))\n",
    "photo_ske = ImageTk.PhotoImage(img_ske)\n",
    "\n",
    "# Load image for ghost\n",
    "img_ghost = Image.open(\"ghost.png\")\n",
    "img_ghost = img_ghost.resize((200, 200))\n",
    "photo_ghost = ImageTk.PhotoImage(img_ghost)\n",
    "\n",
    "#phase\n",
    "enemy = random.choice([\"Goblin\", \"Ghost\", \"Skeleton\"])\n",
    "number = random.randint(1,3)\n",
    "print(f\"When you start walking trough the forest you come across {number} {enemy}s\")\n",
    "if enemy == \"Goblin\":\n",
    "    label = tk.Label(window, image=photo_goblin)\n",
    "    label.pack()\n",
    "    tk.Label(window, text=\"A wild Goblin appears!\").pack()\n",
    "    window.mainloop()\n",
    "elif enemy == \"Skeleton\":\n",
    "    label = tk.Label(window, image=photo_ske)\n",
    "    label.pack()\n",
    "    tk.Label(window, text=\"A Skeleton appears!\").pack()\n",
    "    window.mainloop()\n",
    "elif enemy == \"Ghost\":\n",
    "    label = tk.Label(window, image=photo_ghost)\n",
    "    label.pack()\n",
    "    tk.Label(window, text=\"A Ghost appears!\").pack()\n",
    "    window.mainloop()\n",
    "else:\n",
    "    print(\"You manage to pass without getting caught\")\n",
    "\n",
    "while True:\n",
    "    choice_1 = input(\"What will you do? 1)Walk on 2)Attack 3)Sneak\")\n",
    "    if choice_1 == \"Walk on\":\n",
    "        randomtry = random.randint(1,10)\n",
    "        if randomtry > 3:\n",
    "            print(\"You manage to walk on without getting caught\")\n",
    "        else:\n",
    "            Stats[\"Health\"] -= 2\n",
    "            print(f'You trembled to a branch and got 2 damage. {Stats[\"Health\"]} ')\n",
    "        break\n",
    "    elif choice_1 == \"Attack\":\n",
    "        fight = True\n",
    "        img_g = Image.open(\"swordsguy\")\n",
    "        img_g = img_g.resize((200, 200))\n",
    "        photo_g = ImageTk.PhotoImage(img_)\n",
    "        label = tk.Label(window, image=photo_g)\n",
    "        label.pack()\n",
    "        tk.Label(window, text=\"You get ready to fight\").pack()\n",
    "        window.mainloop()\n",
    "        break\n",
    "    elif choice_1 == \"Sneak\":\n",
    "        randomsneak = random.randint(1,10)\n",
    "        if randomsneak > 4:\n",
    "            print(\"You managed...\")\n",
    "        break\n",
    "    else:\n",
    "        print(\"Wrong input\")\n",
    "        \n",
    "        "
   ]
  }
 ],
 "metadata": {
  "kernelspec": {
   "display_name": "Python 3",
   "language": "python",
   "name": "python3"
  },
  "language_info": {
   "codemirror_mode": {
    "name": "ipython",
    "version": 3
   },
   "file_extension": ".py",
   "mimetype": "text/x-python",
   "name": "python",
   "nbconvert_exporter": "python",
   "pygments_lexer": "ipython3",
   "version": "3.13.3"
  }
 },
 "nbformat": 4,
 "nbformat_minor": 5
}
