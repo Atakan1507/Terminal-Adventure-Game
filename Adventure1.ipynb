{
 "cells": [
  {
   "cell_type": "markdown",
   "id": "2a79f16c",
   "metadata": {},
   "source": [
    "Here you will go in a adventure, based on your selections you will found yourself in a lot of events\n",
    "Have fun :)"
   ]
  },
  {
   "cell_type": "code",
   "execution_count": null,
   "id": "79d0f08d",
   "metadata": {},
   "outputs": [
    {
     "name": "stdout",
     "output_type": "stream",
     "text": [
      "You are just a mercenery in a town full of happiness and wealth.\n",
      "Your main objective is to slay as many as monsters as you can.\n",
      "You approach the town hall hoping to find some bounty, You approach the officer there to ask.\n",
      "Hey! who goes there!\n",
      "Ahh! Hello there Alice, We have a \n"
     ]
    }
   ],
   "source": [
    "print(\"You are just a mercenery in a town full of happiness and wealth.\") \n",
    "print(\"Your main objective is to slay as many as monsters as you can.\") \n",
    "print(\"You approach the town hall hoping to find some bounty, You approach the officer there to ask.\")\n",
    "print(\"Hey! who goes there!\")\n",
    "user = input(\"What will be your name?\")\n",
    "print(f\"Ahh! Hello there {user}, We have a bounty for you!\")\n",
    "print(\"Hands you a bounty that has a orc lord's face painted\")"
   ]
  },
  {
   "cell_type": "code",
   "execution_count": null,
   "id": "101c1bce",
   "metadata": {},
   "outputs": [
    {
     "name": "stdout",
     "output_type": "stream",
     "text": [
      "Here is your Stats:{'Health': 25, 'Armour': 20, 'Dodge': 5}\n"
     ]
    }
   ],
   "source": [
    "\n",
    "while True:\n",
    "    your_class = input(\"Please select one of the classes you want to play: Barbarian, Paladin or Monk\").strip().lower()\n",
    "    if your_class == \"barbarian\" :\n",
    "        Stats = dict(Health = 40,\n",
    "                    Armour = 5,\n",
    "                    Dodge = 5,\n",
    "                    Attack = 10)\n",
    "        print(f\"Here is your Stats:{Stats}\")\n",
    "        break\n",
    "    elif your_class == \"paladin\":\n",
    "        Stats = dict(Health = 25,\n",
    "                    Armour = 20,\n",
    "                    Dodge = 5,\n",
    "                    Attack = 10)\n",
    "        print(f\"Here is your Stats:{Stats}\")\n",
    "        break\n",
    "    elif your_class == \"monk\":\n",
    "        Stats = dict(Health = 20,\n",
    "                    Armour = 5,\n",
    "                    Dodge = 25,\n",
    "                    Attack = 10)\n",
    "        print(f\"Here is your Stats:{Stats}\")\n",
    "        break\n",
    "    else: \n",
    "        print(\"Wrong input, Try again\")"
   ]
  },
  {
   "cell_type": "code",
   "execution_count": 1,
   "id": "c5ba5191",
   "metadata": {},
   "outputs": [],
   "source": [
    "Goblin = dict(Health=10,\n",
    "              Armour =5,\n",
    "              Dodge = 2,\n",
    "              Attack = 5) \n",
    "\n",
    "Skeleton = dict(Health = 5,\n",
    "                Armour =0,\n",
    "                Dodge = 3,\n",
    "                Attack = 10)\n",
    "\n",
    "Ghost = dict(Health = 2,\n",
    "             Armour = 0,\n",
    "             Dodge = 10,\n",
    "             Attack = 5 )"
   ]
  },
  {
   "cell_type": "code",
   "execution_count": null,
   "id": "7f517340",
   "metadata": {},
   "outputs": [
    {
     "name": "stdout",
     "output_type": "stream",
     "text": [
      "When you start walking trough the forest you come across 2 Skeletons\n"
     ]
    },
    {
     "ename": "TclError",
     "evalue": "image \"pyimage14\" doesn't exist",
     "output_type": "error",
     "traceback": [
      "\u001b[31m---------------------------------------------------------------------------\u001b[39m",
      "\u001b[31mTclError\u001b[39m                                  Traceback (most recent call last)",
      "\u001b[36mCell\u001b[39m\u001b[36m \u001b[39m\u001b[32mIn[9]\u001b[39m\u001b[32m, line 31\u001b[39m\n\u001b[32m     29\u001b[39m     window.mainloop()\n\u001b[32m     30\u001b[39m \u001b[38;5;28;01melif\u001b[39;00m enemy == \u001b[33m\"\u001b[39m\u001b[33mSkeleton\u001b[39m\u001b[33m\"\u001b[39m:\n\u001b[32m---> \u001b[39m\u001b[32m31\u001b[39m     label1 = \u001b[43mtk\u001b[49m\u001b[43m.\u001b[49m\u001b[43mLabel\u001b[49m\u001b[43m(\u001b[49m\u001b[43mwindow\u001b[49m\u001b[43m,\u001b[49m\u001b[43m \u001b[49m\u001b[43mimage\u001b[49m\u001b[43m=\u001b[49m\u001b[43mphoto_ske\u001b[49m\u001b[43m)\u001b[49m\n\u001b[32m     32\u001b[39m     label1.pack()\n\u001b[32m     33\u001b[39m     tk.Label(window, text=\u001b[33m\"\u001b[39m\u001b[33mA Skeleton appears!\u001b[39m\u001b[33m\"\u001b[39m).pack()\n",
      "\u001b[36mFile \u001b[39m\u001b[32mC:\\Program Files\\WindowsApps\\PythonSoftwareFoundation.Python.3.13_3.13.1008.0_x64__qbz5n2kfra8p0\\Lib\\tkinter\\__init__.py:3363\u001b[39m, in \u001b[36mLabel.__init__\u001b[39m\u001b[34m(self, master, cnf, **kw)\u001b[39m\n\u001b[32m   3345\u001b[39m \u001b[38;5;28;01mdef\u001b[39;00m\u001b[38;5;250m \u001b[39m\u001b[34m__init__\u001b[39m(\u001b[38;5;28mself\u001b[39m, master=\u001b[38;5;28;01mNone\u001b[39;00m, cnf={}, **kw):\n\u001b[32m   3346\u001b[39m \u001b[38;5;250m    \u001b[39m\u001b[33;03m\"\"\"Construct a label widget with the parent MASTER.\u001b[39;00m\n\u001b[32m   3347\u001b[39m \n\u001b[32m   3348\u001b[39m \u001b[33;03m    STANDARD OPTIONS\u001b[39;00m\n\u001b[32m   (...)\u001b[39m\u001b[32m   3361\u001b[39m \n\u001b[32m   3362\u001b[39m \u001b[33;03m    \"\"\"\u001b[39;00m\n\u001b[32m-> \u001b[39m\u001b[32m3363\u001b[39m     \u001b[43mWidget\u001b[49m\u001b[43m.\u001b[49m\u001b[34;43m__init__\u001b[39;49m\u001b[43m(\u001b[49m\u001b[38;5;28;43mself\u001b[39;49m\u001b[43m,\u001b[49m\u001b[43m \u001b[49m\u001b[43mmaster\u001b[49m\u001b[43m,\u001b[49m\u001b[43m \u001b[49m\u001b[33;43m'\u001b[39;49m\u001b[33;43mlabel\u001b[39;49m\u001b[33;43m'\u001b[39;49m\u001b[43m,\u001b[49m\u001b[43m \u001b[49m\u001b[43mcnf\u001b[49m\u001b[43m,\u001b[49m\u001b[43m \u001b[49m\u001b[43mkw\u001b[49m\u001b[43m)\u001b[49m\n",
      "\u001b[36mFile \u001b[39m\u001b[32mC:\\Program Files\\WindowsApps\\PythonSoftwareFoundation.Python.3.13_3.13.1008.0_x64__qbz5n2kfra8p0\\Lib\\tkinter\\__init__.py:2774\u001b[39m, in \u001b[36mBaseWidget.__init__\u001b[39m\u001b[34m(self, master, widgetName, cnf, kw, extra)\u001b[39m\n\u001b[32m   2772\u001b[39m \u001b[38;5;28;01mfor\u001b[39;00m k, v \u001b[38;5;129;01min\u001b[39;00m classes:\n\u001b[32m   2773\u001b[39m     \u001b[38;5;28;01mdel\u001b[39;00m cnf[k]\n\u001b[32m-> \u001b[39m\u001b[32m2774\u001b[39m \u001b[38;5;28;43mself\u001b[39;49m\u001b[43m.\u001b[49m\u001b[43mtk\u001b[49m\u001b[43m.\u001b[49m\u001b[43mcall\u001b[49m\u001b[43m(\u001b[49m\n\u001b[32m   2775\u001b[39m \u001b[43m    \u001b[49m\u001b[43m(\u001b[49m\u001b[43mwidgetName\u001b[49m\u001b[43m,\u001b[49m\u001b[43m \u001b[49m\u001b[38;5;28;43mself\u001b[39;49m\u001b[43m.\u001b[49m\u001b[43m_w\u001b[49m\u001b[43m)\u001b[49m\u001b[43m \u001b[49m\u001b[43m+\u001b[49m\u001b[43m \u001b[49m\u001b[43mextra\u001b[49m\u001b[43m \u001b[49m\u001b[43m+\u001b[49m\u001b[43m \u001b[49m\u001b[38;5;28;43mself\u001b[39;49m\u001b[43m.\u001b[49m\u001b[43m_options\u001b[49m\u001b[43m(\u001b[49m\u001b[43mcnf\u001b[49m\u001b[43m)\u001b[49m\u001b[43m)\u001b[49m\n\u001b[32m   2776\u001b[39m \u001b[38;5;28;01mfor\u001b[39;00m k, v \u001b[38;5;129;01min\u001b[39;00m classes:\n\u001b[32m   2777\u001b[39m     k.configure(\u001b[38;5;28mself\u001b[39m, v)\n",
      "\u001b[31mTclError\u001b[39m: image \"pyimage14\" doesn't exist"
     ]
    }
   ],
   "source": [
    "import random\n",
    "import tkinter as tk\n",
    "from PIL import Image, ImageTk\n",
    "window = tk.Tk()\n",
    "window.title(\"Adventure Game\")\n",
    "# Load image for goblin\n",
    "img_goblin = Image.open(\"goblin.png\")\n",
    "img_goblin = img_goblin.resize((200, 200))\n",
    "photo_goblin = ImageTk.PhotoImage(img_goblin)\n",
    "\n",
    "# Load image for skeleton\n",
    "img_ske = Image.open(\"skeleton.png\")\n",
    "img_ske = img_ske.resize((200, 200))\n",
    "photo_ske = ImageTk.PhotoImage(img_ske)\n",
    "\n",
    "# Load image for ghost\n",
    "img_ghost = Image.open(\"ghost.png\")\n",
    "img_ghost = img_ghost.resize((200, 200))\n",
    "photo_ghost = ImageTk.PhotoImage(img_ghost)\n",
    "\n",
    "#phase\n",
    "enemy = random.choice([\"Goblin\", \"Ghost\", \"Skeleton\"])\n",
    "number = random.randint(1,3)\n",
    "print(f\"When you start walking trough the forest you come across {number} {enemy}s\")\n",
    "if enemy == \"Goblin\":\n",
    "    label = tk.Label(window, image=photo_goblin)\n",
    "    label.pack()\n",
    "    tk.Label(window, text=\"A wild Goblin appears!\").pack()\n",
    "    window.mainloop()\n",
    "elif enemy == \"Skeleton\":\n",
    "    label = tk.Label(window, image=photo_ske)\n",
    "    label.pack()\n",
    "    tk.Label(window, text=\"A Skeleton appears!\").pack()\n",
    "    window.mainloop()\n",
    "elif enemy == \"Ghost\":\n",
    "    label = tk.Label(window, image=photo_ghost)\n",
    "    label.pack()\n",
    "    tk.Label(window, text=\"A Ghost appears!\").pack()\n",
    "    window.mainloop()\n",
    "else:\n",
    "    print(\"You manage to pass without getting caught\")\n",
    "\n",
    "\n",
    "#choice_1 = input(\"What will you do? 1)Walk on 2)Attach 3)Sneak\")\n"
   ]
  },
  {
   "cell_type": "code",
   "execution_count": 13,
   "id": "aa63e3bd",
   "metadata": {},
   "outputs": [
    {
     "ename": "TclError",
     "evalue": "image \"pyimage19\" doesn't exist",
     "output_type": "error",
     "traceback": [
      "\u001b[31m---------------------------------------------------------------------------\u001b[39m",
      "\u001b[31mTclError\u001b[39m                                  Traceback (most recent call last)",
      "\u001b[36mCell\u001b[39m\u001b[36m \u001b[39m\u001b[32mIn[13]\u001b[39m\u001b[32m, line 14\u001b[39m\n\u001b[32m     11\u001b[39m photo = ImageTk.PhotoImage(img)\n\u001b[32m     13\u001b[39m \u001b[38;5;66;03m# Keep a reference to the image so it doesn't get garbage collected\u001b[39;00m\n\u001b[32m---> \u001b[39m\u001b[32m14\u001b[39m label = \u001b[43mtk\u001b[49m\u001b[43m.\u001b[49m\u001b[43mLabel\u001b[49m\u001b[43m(\u001b[49m\u001b[43mwindow\u001b[49m\u001b[43m,\u001b[49m\u001b[43m \u001b[49m\u001b[43mimage\u001b[49m\u001b[43m=\u001b[49m\u001b[43mphoto\u001b[49m\u001b[43m)\u001b[49m\n\u001b[32m     15\u001b[39m label.image = photo  \u001b[38;5;66;03m# <-- this line is crucial!\u001b[39;00m\n\u001b[32m     16\u001b[39m label.pack()\n",
      "\u001b[36mFile \u001b[39m\u001b[32mC:\\Program Files\\WindowsApps\\PythonSoftwareFoundation.Python.3.13_3.13.1008.0_x64__qbz5n2kfra8p0\\Lib\\tkinter\\__init__.py:3363\u001b[39m, in \u001b[36mLabel.__init__\u001b[39m\u001b[34m(self, master, cnf, **kw)\u001b[39m\n\u001b[32m   3345\u001b[39m \u001b[38;5;28;01mdef\u001b[39;00m\u001b[38;5;250m \u001b[39m\u001b[34m__init__\u001b[39m(\u001b[38;5;28mself\u001b[39m, master=\u001b[38;5;28;01mNone\u001b[39;00m, cnf={}, **kw):\n\u001b[32m   3346\u001b[39m \u001b[38;5;250m    \u001b[39m\u001b[33;03m\"\"\"Construct a label widget with the parent MASTER.\u001b[39;00m\n\u001b[32m   3347\u001b[39m \n\u001b[32m   3348\u001b[39m \u001b[33;03m    STANDARD OPTIONS\u001b[39;00m\n\u001b[32m   (...)\u001b[39m\u001b[32m   3361\u001b[39m \n\u001b[32m   3362\u001b[39m \u001b[33;03m    \"\"\"\u001b[39;00m\n\u001b[32m-> \u001b[39m\u001b[32m3363\u001b[39m     \u001b[43mWidget\u001b[49m\u001b[43m.\u001b[49m\u001b[34;43m__init__\u001b[39;49m\u001b[43m(\u001b[49m\u001b[38;5;28;43mself\u001b[39;49m\u001b[43m,\u001b[49m\u001b[43m \u001b[49m\u001b[43mmaster\u001b[49m\u001b[43m,\u001b[49m\u001b[43m \u001b[49m\u001b[33;43m'\u001b[39;49m\u001b[33;43mlabel\u001b[39;49m\u001b[33;43m'\u001b[39;49m\u001b[43m,\u001b[49m\u001b[43m \u001b[49m\u001b[43mcnf\u001b[49m\u001b[43m,\u001b[49m\u001b[43m \u001b[49m\u001b[43mkw\u001b[49m\u001b[43m)\u001b[49m\n",
      "\u001b[36mFile \u001b[39m\u001b[32mC:\\Program Files\\WindowsApps\\PythonSoftwareFoundation.Python.3.13_3.13.1008.0_x64__qbz5n2kfra8p0\\Lib\\tkinter\\__init__.py:2774\u001b[39m, in \u001b[36mBaseWidget.__init__\u001b[39m\u001b[34m(self, master, widgetName, cnf, kw, extra)\u001b[39m\n\u001b[32m   2772\u001b[39m \u001b[38;5;28;01mfor\u001b[39;00m k, v \u001b[38;5;129;01min\u001b[39;00m classes:\n\u001b[32m   2773\u001b[39m     \u001b[38;5;28;01mdel\u001b[39;00m cnf[k]\n\u001b[32m-> \u001b[39m\u001b[32m2774\u001b[39m \u001b[38;5;28;43mself\u001b[39;49m\u001b[43m.\u001b[49m\u001b[43mtk\u001b[49m\u001b[43m.\u001b[49m\u001b[43mcall\u001b[49m\u001b[43m(\u001b[49m\n\u001b[32m   2775\u001b[39m \u001b[43m    \u001b[49m\u001b[43m(\u001b[49m\u001b[43mwidgetName\u001b[49m\u001b[43m,\u001b[49m\u001b[43m \u001b[49m\u001b[38;5;28;43mself\u001b[39;49m\u001b[43m.\u001b[49m\u001b[43m_w\u001b[49m\u001b[43m)\u001b[49m\u001b[43m \u001b[49m\u001b[43m+\u001b[49m\u001b[43m \u001b[49m\u001b[43mextra\u001b[49m\u001b[43m \u001b[49m\u001b[43m+\u001b[49m\u001b[43m \u001b[49m\u001b[38;5;28;43mself\u001b[39;49m\u001b[43m.\u001b[49m\u001b[43m_options\u001b[49m\u001b[43m(\u001b[49m\u001b[43mcnf\u001b[49m\u001b[43m)\u001b[49m\u001b[43m)\u001b[49m\n\u001b[32m   2776\u001b[39m \u001b[38;5;28;01mfor\u001b[39;00m k, v \u001b[38;5;129;01min\u001b[39;00m classes:\n\u001b[32m   2777\u001b[39m     k.configure(\u001b[38;5;28mself\u001b[39m, v)\n",
      "\u001b[31mTclError\u001b[39m: image \"pyimage19\" doesn't exist"
     ]
    }
   ],
   "source": [
    "import tkinter as tk\n",
    "from PIL import Image, ImageTk\n",
    "\n",
    "# Create main window\n",
    "window = tk.Tk()\n",
    "window.title(\"Adventure Game\")\n",
    "\n",
    "# Load and prepare the image\n",
    "img = Image.open(\"goblin.png\")\n",
    "img = img.resize((200, 200))\n",
    "photo = ImageTk.PhotoImage(img)\n",
    "\n",
    "# Keep a reference to the image so it doesn't get garbage collected\n",
    "label = tk.Label(window, image=photo)\n",
    "label.image = photo  # <-- this line is crucial!\n",
    "label.pack()\n",
    "\n",
    "# Add some text\n",
    "tk.Label(window, text=\"A wild Goblin appears!\").pack()\n",
    "\n",
    "# Start GUI loop\n",
    "window.mainloop()\n"
   ]
  }
 ],
 "metadata": {
  "kernelspec": {
   "display_name": "Python 3",
   "language": "python",
   "name": "python3"
  },
  "language_info": {
   "codemirror_mode": {
    "name": "ipython",
    "version": 3
   },
   "file_extension": ".py",
   "mimetype": "text/x-python",
   "name": "python",
   "nbconvert_exporter": "python",
   "pygments_lexer": "ipython3",
   "version": "3.13.3"
  }
 },
 "nbformat": 4,
 "nbformat_minor": 5
}
